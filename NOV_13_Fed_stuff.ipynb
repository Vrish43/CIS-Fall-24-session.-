{
  "nbformat": 4,
  "nbformat_minor": 0,
  "metadata": {
    "colab": {
      "provenance": []
    },
    "kernelspec": {
      "name": "python3",
      "display_name": "Python 3"
    },
    "language_info": {
      "name": "python"
    }
  },
  "cells": [
    {
      "cell_type": "code",
      "source": [
        "# prompt: b64fef4624c8a6ab9bf59d4095600f31\n",
        "\n",
        "# Assuming the content is stored in a variable named 'file_content'\n",
        "file_content = 'b64fef4624c8a6ab9bf59d4095600f31'\n",
        "\n",
        "file_content"
      ],
      "metadata": {
        "id": "fJsgJKDGv2dR"
      },
      "execution_count": null,
      "outputs": []
    },
    {
      "cell_type": "code",
      "source": [
        "FED_KEY = 'b64fef4624c8a6ab9bf59d4095600f31'"
      ],
      "metadata": {
        "id": "0TOD_BNAwJQa"
      },
      "execution_count": 3,
      "outputs": []
    },
    {
      "cell_type": "code",
      "source": [
        "# prompt: using the above api key, use federal reserve data (FRED) to get bitcoin and CPI announcement data, and construct a granger causality analysis between these two data sets\n",
        "\n",
        "!pip install fredapi\n",
        "\n",
        "import pandas as pd\n",
        "from fredapi import Fred\n",
        "from statsmodels.tsa.stattools import grangercausalitytests\n",
        "\n",
        "# Assuming the content is stored in a variable named 'file_content'\n",
        "# file_content = 'b64fef4624c8a6ab9bf59d4095600f31'\n",
        "\n",
        "# FED_KEY = 'b64fef4624c8a6ab9bf59d4095600f31'\n",
        "FED_KEY = 'b64fef4624c8a6ab9bf59d4095600f31'\n",
        "\n",
        "fred = Fred(api_key=FED_KEY)\n",
        "\n",
        "# Get Bitcoin price data (e.g., using the CoinDesk BPI index)\n",
        "bitcoin_data = fred.get_series('BCHAIN-MKPRU')\n",
        "\n",
        "# Get CPI data (e.g., using the Consumer Price Index for All Urban Consumers)\n",
        "cpi_data = fred.get_series('CPIAUCSL')\n",
        "\n",
        "# Combine the data into a single DataFrame\n",
        "data = pd.DataFrame({'bitcoin': bitcoin_data, 'cpi': cpi_data})\n",
        "\n",
        "# Ensure the data is aligned in time\n",
        "data = data.dropna()\n",
        "\n",
        "# Perform Granger causality test\n",
        "maxlag = 12  # Maximum lag to consider for Granger causality\n",
        "test = 'ssr_chi2test'\n",
        "\n",
        "granger_results = grangercausalitytests(data[['bitcoin', 'cpi']], maxlag=maxlag, verbose=True)\n",
        "\n",
        "# Print the Granger causality test results\n",
        "granger_results\n",
        "\n",
        "# Analyze the p-values from the Granger causality test to determine if\n",
        "# CPI Granger-causes Bitcoin or vice versa. A p-value below a certain\n",
        "# significance level (e.g., 0.05) indicates a statistically significant\n",
        "# relationship."
      ],
      "metadata": {
        "id": "7Wi26PsB15lz"
      },
      "execution_count": null,
      "outputs": []
    }
  ]
}